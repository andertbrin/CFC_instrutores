{
 "cells": [
  {
   "cell_type": "code",
   "execution_count": 1,
   "metadata": {},
   "outputs": [],
   "source": [
    "import pandas as pd\n",
    "import numpy as np"
   ]
  },
  {
   "cell_type": "code",
   "execution_count": 2,
   "metadata": {},
   "outputs": [],
   "source": [
    "pd.set_option('display.max_columns', None)  # or 1000\n",
    "pd.set_option('display.max_rows', None)  # or 1000"
   ]
  },
  {
   "cell_type": "code",
   "execution_count": 3,
   "metadata": {},
   "outputs": [],
   "source": [
    "df = pd.read_csv('Relatórios de Aulas.csv')"
   ]
  },
  {
   "cell_type": "code",
   "execution_count": 4,
   "metadata": {},
   "outputs": [
    {
     "data": {
      "text/plain": [
       "Data                 object\n",
       "CFC                  object\n",
       "Horário              object\n",
       "CPF do instrutor     object\n",
       "Instrutor            object\n",
       "CPF do aluno         object\n",
       "Aluno                object\n",
       "Categoria            object\n",
       "Veículo              object\n",
       "KM                   object\n",
       "KM Inicial            int64\n",
       "KM Final            float64\n",
       "Biometria            object\n",
       "Status               object\n",
       "Periodo              object\n",
       "dtype: object"
      ]
     },
     "execution_count": 4,
     "metadata": {},
     "output_type": "execute_result"
    }
   ],
   "source": [
    "df.dtypes"
   ]
  },
  {
   "cell_type": "code",
   "execution_count": 5,
   "metadata": {},
   "outputs": [
    {
     "data": {
      "text/plain": [
       "(446, 15)"
      ]
     },
     "execution_count": 5,
     "metadata": {},
     "output_type": "execute_result"
    }
   ],
   "source": [
    "df.shape"
   ]
  },
  {
   "cell_type": "code",
   "execution_count": 6,
   "metadata": {},
   "outputs": [
    {
     "data": {
      "text/plain": [
       "Data                 24\n",
       "CFC                   1\n",
       "Horário             299\n",
       "CPF do instrutor      5\n",
       "Instrutor             5\n",
       "CPF do aluno         42\n",
       "Aluno                42\n",
       "Categoria             2\n",
       "Veículo               6\n",
       "KM                   39\n",
       "KM Inicial          434\n",
       "KM Final            432\n",
       "Biometria             3\n",
       "Status                4\n",
       "Periodo               2\n",
       "dtype: int64"
      ]
     },
     "execution_count": 6,
     "metadata": {},
     "output_type": "execute_result"
    }
   ],
   "source": [
    "df.nunique()"
   ]
  },
  {
   "cell_type": "code",
   "execution_count": 7,
   "metadata": {},
   "outputs": [
    {
     "data": {
      "text/html": [
       "<div>\n",
       "<style scoped>\n",
       "    .dataframe tbody tr th:only-of-type {\n",
       "        vertical-align: middle;\n",
       "    }\n",
       "\n",
       "    .dataframe tbody tr th {\n",
       "        vertical-align: top;\n",
       "    }\n",
       "\n",
       "    .dataframe thead th {\n",
       "        text-align: right;\n",
       "    }\n",
       "</style>\n",
       "<table border=\"1\" class=\"dataframe\">\n",
       "  <thead>\n",
       "    <tr style=\"text-align: right;\">\n",
       "      <th></th>\n",
       "      <th>Data</th>\n",
       "      <th>CFC</th>\n",
       "      <th>Horário</th>\n",
       "      <th>CPF do instrutor</th>\n",
       "      <th>Instrutor</th>\n",
       "      <th>CPF do aluno</th>\n",
       "      <th>Aluno</th>\n",
       "      <th>Categoria</th>\n",
       "      <th>Veículo</th>\n",
       "      <th>KM</th>\n",
       "      <th>KM Inicial</th>\n",
       "      <th>KM Final</th>\n",
       "      <th>Biometria</th>\n",
       "      <th>Status</th>\n",
       "      <th>Periodo</th>\n",
       "    </tr>\n",
       "  </thead>\n",
       "  <tbody>\n",
       "    <tr>\n",
       "      <th>0</th>\n",
       "      <td>01/06/2020</td>\n",
       "      <td>CFC TONELLO</td>\n",
       "      <td>08:06 - 09:46</td>\n",
       "      <td>023.052.389-75</td>\n",
       "      <td>LUCIMAR TONELLO</td>\n",
       "      <td>099.038.689-95</td>\n",
       "      <td>ISMAEL LUCAS GABARDO</td>\n",
       "      <td>A</td>\n",
       "      <td>QIO-1623</td>\n",
       "      <td>7</td>\n",
       "      <td>11703</td>\n",
       "      <td>11710.0</td>\n",
       "      <td>Biometria validada</td>\n",
       "      <td>Crédito da aula aceito pelo Detran</td>\n",
       "      <td>SEM TURNO</td>\n",
       "    </tr>\n",
       "  </tbody>\n",
       "</table>\n",
       "</div>"
      ],
      "text/plain": [
       "         Data          CFC        Horário CPF do instrutor        Instrutor  \\\n",
       "0  01/06/2020  CFC TONELLO  08:06 - 09:46   023.052.389-75  LUCIMAR TONELLO   \n",
       "\n",
       "     CPF do aluno                 Aluno Categoria   Veículo KM  KM Inicial  \\\n",
       "0  099.038.689-95  ISMAEL LUCAS GABARDO         A  QIO-1623  7       11703   \n",
       "\n",
       "   KM Final           Biometria                              Status    Periodo  \n",
       "0   11710.0  Biometria validada  Crédito da aula aceito pelo Detran  SEM TURNO  "
      ]
     },
     "execution_count": 7,
     "metadata": {},
     "output_type": "execute_result"
    }
   ],
   "source": [
    "df.head(1)"
   ]
  },
  {
   "cell_type": "code",
   "execution_count": 8,
   "metadata": {},
   "outputs": [],
   "source": [
    "df['comeco_aula'] = df['Horário'].astype(str).str.slice(0,5)\n",
    "df['final_aula'] = df['Horário'].astype(str).str.slice(-5)"
   ]
  },
  {
   "cell_type": "code",
   "execution_count": 9,
   "metadata": {},
   "outputs": [],
   "source": [
    "df['comeco_aula'] = pd.to_datetime(df[['Data', 'comeco_aula']].agg(' '.join, axis=1), format='%d/%m/%Y %H:%M')\n",
    "df['final_aula'] = pd.to_datetime(df[['Data', 'final_aula']].agg(' '.join, axis=1), format='%d/%m/%Y %H:%M')"
   ]
  },
  {
   "cell_type": "code",
   "execution_count": 10,
   "metadata": {
    "scrolled": true
   },
   "outputs": [
    {
     "data": {
      "text/html": [
       "<div>\n",
       "<style scoped>\n",
       "    .dataframe tbody tr th:only-of-type {\n",
       "        vertical-align: middle;\n",
       "    }\n",
       "\n",
       "    .dataframe tbody tr th {\n",
       "        vertical-align: top;\n",
       "    }\n",
       "\n",
       "    .dataframe thead th {\n",
       "        text-align: right;\n",
       "    }\n",
       "</style>\n",
       "<table border=\"1\" class=\"dataframe\">\n",
       "  <thead>\n",
       "    <tr style=\"text-align: right;\">\n",
       "      <th></th>\n",
       "      <th>Data</th>\n",
       "      <th>CFC</th>\n",
       "      <th>Horário</th>\n",
       "      <th>CPF do instrutor</th>\n",
       "      <th>Instrutor</th>\n",
       "      <th>CPF do aluno</th>\n",
       "      <th>Aluno</th>\n",
       "      <th>Categoria</th>\n",
       "      <th>Veículo</th>\n",
       "      <th>KM</th>\n",
       "      <th>KM Inicial</th>\n",
       "      <th>KM Final</th>\n",
       "      <th>Biometria</th>\n",
       "      <th>Status</th>\n",
       "      <th>Periodo</th>\n",
       "      <th>comeco_aula</th>\n",
       "      <th>final_aula</th>\n",
       "      <th>tempo_aula</th>\n",
       "      <th>n_aula</th>\n",
       "    </tr>\n",
       "  </thead>\n",
       "  <tbody>\n",
       "    <tr>\n",
       "      <th>0</th>\n",
       "      <td>01/06/2020</td>\n",
       "      <td>CFC TONELLO</td>\n",
       "      <td>08:06 - 09:46</td>\n",
       "      <td>023.052.389-75</td>\n",
       "      <td>LUCIMAR TONELLO</td>\n",
       "      <td>099.038.689-95</td>\n",
       "      <td>ISMAEL LUCAS GABARDO</td>\n",
       "      <td>A</td>\n",
       "      <td>QIO-1623</td>\n",
       "      <td>7</td>\n",
       "      <td>11703</td>\n",
       "      <td>11710.0</td>\n",
       "      <td>Biometria validada</td>\n",
       "      <td>Crédito da aula aceito pelo Detran</td>\n",
       "      <td>SEM TURNO</td>\n",
       "      <td>2020-06-01 08:06:00</td>\n",
       "      <td>2020-06-01 09:46:00</td>\n",
       "      <td>01:40:00</td>\n",
       "      <td>2.0</td>\n",
       "    </tr>\n",
       "    <tr>\n",
       "      <th>1</th>\n",
       "      <td>01/06/2020</td>\n",
       "      <td>CFC TONELLO</td>\n",
       "      <td>10:54 - 11:44</td>\n",
       "      <td>942.197.459-04</td>\n",
       "      <td>LEONIR TONELLO</td>\n",
       "      <td>099.038.689-95</td>\n",
       "      <td>ISMAEL LUCAS GABARDO</td>\n",
       "      <td>B</td>\n",
       "      <td>QIO-1683</td>\n",
       "      <td>11</td>\n",
       "      <td>75929</td>\n",
       "      <td>75940.0</td>\n",
       "      <td>Backoffice aprovado</td>\n",
       "      <td>Crédito da aula aceito pelo Detran</td>\n",
       "      <td>SEM TURNO</td>\n",
       "      <td>2020-06-01 10:54:00</td>\n",
       "      <td>2020-06-01 11:44:00</td>\n",
       "      <td>00:50:00</td>\n",
       "      <td>1.0</td>\n",
       "    </tr>\n",
       "  </tbody>\n",
       "</table>\n",
       "</div>"
      ],
      "text/plain": [
       "         Data          CFC        Horário CPF do instrutor        Instrutor  \\\n",
       "0  01/06/2020  CFC TONELLO  08:06 - 09:46   023.052.389-75  LUCIMAR TONELLO   \n",
       "1  01/06/2020  CFC TONELLO  10:54 - 11:44   942.197.459-04   LEONIR TONELLO   \n",
       "\n",
       "     CPF do aluno                 Aluno Categoria   Veículo  KM  KM Inicial  \\\n",
       "0  099.038.689-95  ISMAEL LUCAS GABARDO         A  QIO-1623   7       11703   \n",
       "1  099.038.689-95  ISMAEL LUCAS GABARDO         B  QIO-1683  11       75929   \n",
       "\n",
       "   KM Final            Biometria                              Status  \\\n",
       "0   11710.0   Biometria validada  Crédito da aula aceito pelo Detran   \n",
       "1   75940.0  Backoffice aprovado  Crédito da aula aceito pelo Detran   \n",
       "\n",
       "     Periodo         comeco_aula          final_aula tempo_aula  n_aula  \n",
       "0  SEM TURNO 2020-06-01 08:06:00 2020-06-01 09:46:00   01:40:00     2.0  \n",
       "1  SEM TURNO 2020-06-01 10:54:00 2020-06-01 11:44:00   00:50:00     1.0  "
      ]
     },
     "execution_count": 10,
     "metadata": {},
     "output_type": "execute_result"
    }
   ],
   "source": [
    "df['tempo_aula'] = (df['final_aula'] - df['comeco_aula'])\n",
    "df['n_aula'] = df['tempo_aula'].astype('timedelta64[m]')/50\n",
    "df.head(2)"
   ]
  },
  {
   "cell_type": "code",
   "execution_count": 11,
   "metadata": {},
   "outputs": [],
   "source": [
    "df = df.drop(['CFC','CPF do instrutor', 'CPF do aluno', 'Periodo'], axis=1)\n",
    "df = df.drop(['Data','Horário'], axis=1)"
   ]
  },
  {
   "cell_type": "code",
   "execution_count": 12,
   "metadata": {},
   "outputs": [
    {
     "data": {
      "text/plain": [
       "['Instrutor',\n",
       " 'Aluno',\n",
       " 'Categoria',\n",
       " 'Veículo',\n",
       " 'KM',\n",
       " 'KM Inicial',\n",
       " 'KM Final',\n",
       " 'Biometria',\n",
       " 'Status',\n",
       " 'comeco_aula',\n",
       " 'final_aula',\n",
       " 'tempo_aula',\n",
       " 'n_aula']"
      ]
     },
     "execution_count": 12,
     "metadata": {},
     "output_type": "execute_result"
    }
   ],
   "source": [
    "list(df.columns)"
   ]
  },
  {
   "cell_type": "code",
   "execution_count": 13,
   "metadata": {},
   "outputs": [
    {
     "data": {
      "text/plain": [
       "['LUCIMAR TONELLO',\n",
       " 'LEONIR TONELLO',\n",
       " 'JEFERSON CLAUDIO DE ALMEIDA',\n",
       " 'MOISES DIONATAS VANCINI',\n",
       " 'MARILEI TELES DA SILVA']"
      ]
     },
     "execution_count": 13,
     "metadata": {},
     "output_type": "execute_result"
    }
   ],
   "source": [
    "list(df['Instrutor'].unique())"
   ]
  },
  {
   "cell_type": "code",
   "execution_count": 24,
   "metadata": {
    "scrolled": true
   },
   "outputs": [
    {
     "data": {
      "text/plain": [
       "(8, 13)"
      ]
     },
     "execution_count": 24,
     "metadata": {},
     "output_type": "execute_result"
    }
   ],
   "source": [
    "intrutor = df['Instrutor'] == 'MARILEI TELES DA SILVA'\n",
    "categoria = df['Categoria'] == 'A'\n",
    "\n",
    "cat = df[intrutor & categoria].copy()\n",
    "cat.shape"
   ]
  },
  {
   "cell_type": "code",
   "execution_count": 25,
   "metadata": {},
   "outputs": [
    {
     "data": {
      "text/plain": [
       "['Biometria validada']"
      ]
     },
     "execution_count": 25,
     "metadata": {},
     "output_type": "execute_result"
    }
   ],
   "source": [
    "list(cat['Biometria'].unique())"
   ]
  },
  {
   "cell_type": "code",
   "execution_count": 26,
   "metadata": {},
   "outputs": [
    {
     "data": {
      "text/plain": [
       "8"
      ]
     },
     "execution_count": 26,
     "metadata": {},
     "output_type": "execute_result"
    }
   ],
   "source": [
    "cat[cat['Status'].str.find('Cancelada') == -1].shape[0]"
   ]
  },
  {
   "cell_type": "code",
   "execution_count": 27,
   "metadata": {},
   "outputs": [
    {
     "data": {
      "text/html": [
       "<div>\n",
       "<style scoped>\n",
       "    .dataframe tbody tr th:only-of-type {\n",
       "        vertical-align: middle;\n",
       "    }\n",
       "\n",
       "    .dataframe tbody tr th {\n",
       "        vertical-align: top;\n",
       "    }\n",
       "\n",
       "    .dataframe thead th {\n",
       "        text-align: right;\n",
       "    }\n",
       "</style>\n",
       "<table border=\"1\" class=\"dataframe\">\n",
       "  <thead>\n",
       "    <tr style=\"text-align: right;\">\n",
       "      <th></th>\n",
       "      <th>Instrutor</th>\n",
       "      <th>Aluno</th>\n",
       "      <th>Categoria</th>\n",
       "      <th>Veículo</th>\n",
       "      <th>KM</th>\n",
       "      <th>KM Inicial</th>\n",
       "      <th>KM Final</th>\n",
       "      <th>Biometria</th>\n",
       "      <th>Status</th>\n",
       "      <th>comeco_aula</th>\n",
       "      <th>final_aula</th>\n",
       "      <th>tempo_aula</th>\n",
       "      <th>n_aula</th>\n",
       "    </tr>\n",
       "  </thead>\n",
       "  <tbody>\n",
       "    <tr>\n",
       "      <th>49</th>\n",
       "      <td>MARILEI TELES DA SILVA</td>\n",
       "      <td>EDER RODRIGUES</td>\n",
       "      <td>A</td>\n",
       "      <td>QIO-1623</td>\n",
       "      <td>1</td>\n",
       "      <td>11756</td>\n",
       "      <td>11757.0</td>\n",
       "      <td>Biometria validada</td>\n",
       "      <td>Crédito da aula aceito pelo Detran</td>\n",
       "      <td>2020-06-03 15:21:00</td>\n",
       "      <td>2020-06-03 17:01:00</td>\n",
       "      <td>01:40:00</td>\n",
       "      <td>2.0</td>\n",
       "    </tr>\n",
       "    <tr>\n",
       "      <th>50</th>\n",
       "      <td>MARILEI TELES DA SILVA</td>\n",
       "      <td>JUCIMAR BALDESSAR</td>\n",
       "      <td>A</td>\n",
       "      <td>QIO-1663</td>\n",
       "      <td>4</td>\n",
       "      <td>9987</td>\n",
       "      <td>9991.0</td>\n",
       "      <td>Biometria validada</td>\n",
       "      <td>Crédito da aula aceito pelo Detran</td>\n",
       "      <td>2020-06-03 15:24:00</td>\n",
       "      <td>2020-06-03 16:14:00</td>\n",
       "      <td>00:50:00</td>\n",
       "      <td>1.0</td>\n",
       "    </tr>\n",
       "    <tr>\n",
       "      <th>52</th>\n",
       "      <td>MARILEI TELES DA SILVA</td>\n",
       "      <td>RODRIGO GAIO</td>\n",
       "      <td>A</td>\n",
       "      <td>QIO-1663</td>\n",
       "      <td>0</td>\n",
       "      <td>9991</td>\n",
       "      <td>9991.0</td>\n",
       "      <td>Biometria validada</td>\n",
       "      <td>Crédito da aula aceito pelo Detran</td>\n",
       "      <td>2020-06-03 16:37:00</td>\n",
       "      <td>2020-06-03 17:27:00</td>\n",
       "      <td>00:50:00</td>\n",
       "      <td>1.0</td>\n",
       "    </tr>\n",
       "    <tr>\n",
       "      <th>145</th>\n",
       "      <td>MARILEI TELES DA SILVA</td>\n",
       "      <td>JACKSON MAIA DA SILVA</td>\n",
       "      <td>A</td>\n",
       "      <td>QIO-1623</td>\n",
       "      <td>1</td>\n",
       "      <td>11817</td>\n",
       "      <td>11818.0</td>\n",
       "      <td>Biometria validada</td>\n",
       "      <td>Crédito da aula aceito pelo Detran</td>\n",
       "      <td>2020-06-10 08:51:00</td>\n",
       "      <td>2020-06-10 10:31:00</td>\n",
       "      <td>01:40:00</td>\n",
       "      <td>2.0</td>\n",
       "    </tr>\n",
       "    <tr>\n",
       "      <th>272</th>\n",
       "      <td>MARILEI TELES DA SILVA</td>\n",
       "      <td>CISSA EMMA PIASSESKI</td>\n",
       "      <td>A</td>\n",
       "      <td>QIO-1623</td>\n",
       "      <td>4</td>\n",
       "      <td>11962</td>\n",
       "      <td>11966.0</td>\n",
       "      <td>Biometria validada</td>\n",
       "      <td>Crédito da aula aceito pelo Detran</td>\n",
       "      <td>2020-06-18 14:32:00</td>\n",
       "      <td>2020-06-18 16:12:00</td>\n",
       "      <td>01:40:00</td>\n",
       "      <td>2.0</td>\n",
       "    </tr>\n",
       "  </tbody>\n",
       "</table>\n",
       "</div>"
      ],
      "text/plain": [
       "                  Instrutor                  Aluno Categoria   Veículo KM  \\\n",
       "49   MARILEI TELES DA SILVA         EDER RODRIGUES         A  QIO-1623  1   \n",
       "50   MARILEI TELES DA SILVA      JUCIMAR BALDESSAR         A  QIO-1663  4   \n",
       "52   MARILEI TELES DA SILVA           RODRIGO GAIO         A  QIO-1663  0   \n",
       "145  MARILEI TELES DA SILVA  JACKSON MAIA DA SILVA         A  QIO-1623  1   \n",
       "272  MARILEI TELES DA SILVA   CISSA EMMA PIASSESKI         A  QIO-1623  4   \n",
       "\n",
       "     KM Inicial  KM Final           Biometria  \\\n",
       "49        11756   11757.0  Biometria validada   \n",
       "50         9987    9991.0  Biometria validada   \n",
       "52         9991    9991.0  Biometria validada   \n",
       "145       11817   11818.0  Biometria validada   \n",
       "272       11962   11966.0  Biometria validada   \n",
       "\n",
       "                                 Status         comeco_aula  \\\n",
       "49   Crédito da aula aceito pelo Detran 2020-06-03 15:21:00   \n",
       "50   Crédito da aula aceito pelo Detran 2020-06-03 15:24:00   \n",
       "52   Crédito da aula aceito pelo Detran 2020-06-03 16:37:00   \n",
       "145  Crédito da aula aceito pelo Detran 2020-06-10 08:51:00   \n",
       "272  Crédito da aula aceito pelo Detran 2020-06-18 14:32:00   \n",
       "\n",
       "             final_aula tempo_aula  n_aula  \n",
       "49  2020-06-03 17:01:00   01:40:00     2.0  \n",
       "50  2020-06-03 16:14:00   00:50:00     1.0  \n",
       "52  2020-06-03 17:27:00   00:50:00     1.0  \n",
       "145 2020-06-10 10:31:00   01:40:00     2.0  \n",
       "272 2020-06-18 16:12:00   01:40:00     2.0  "
      ]
     },
     "execution_count": 27,
     "metadata": {},
     "output_type": "execute_result"
    }
   ],
   "source": [
    "cat.head(5)"
   ]
  },
  {
   "cell_type": "code",
   "execution_count": 28,
   "metadata": {},
   "outputs": [],
   "source": [
    "cat['d_begin'] = (cat['comeco_aula'] - cat['comeco_aula'].shift(1)).astype('timedelta64[m]')\n",
    "cat['d_end'] = (cat['final_aula'] - cat['final_aula'].shift(1)).astype('timedelta64[m]')\n",
    "cat['d_end_s2'] = (cat['final_aula'] - cat['final_aula'].shift(2)).astype('timedelta64[m]')"
   ]
  },
  {
   "cell_type": "code",
   "execution_count": 34,
   "metadata": {},
   "outputs": [],
   "source": [
    "cat['test'] = ((cat['d_begin'] < 15) | (cat['d_end'] < 15) | (cat['d_end_s2'] < 40))"
   ]
  },
  {
   "cell_type": "code",
   "execution_count": 35,
   "metadata": {},
   "outputs": [],
   "source": [
    "cat['test_2'] = ((cat['d_end'] - cat['d_begin'] == 0) & (cat['n_aula'] == 2.0) & (cat['d_begin'] < 60))"
   ]
  },
  {
   "cell_type": "code",
   "execution_count": 36,
   "metadata": {},
   "outputs": [
    {
     "data": {
      "text/html": [
       "<div>\n",
       "<style scoped>\n",
       "    .dataframe tbody tr th:only-of-type {\n",
       "        vertical-align: middle;\n",
       "    }\n",
       "\n",
       "    .dataframe tbody tr th {\n",
       "        vertical-align: top;\n",
       "    }\n",
       "\n",
       "    .dataframe thead th {\n",
       "        text-align: right;\n",
       "    }\n",
       "</style>\n",
       "<table border=\"1\" class=\"dataframe\">\n",
       "  <thead>\n",
       "    <tr style=\"text-align: right;\">\n",
       "      <th></th>\n",
       "      <th>Instrutor</th>\n",
       "      <th>Aluno</th>\n",
       "      <th>Categoria</th>\n",
       "      <th>Veículo</th>\n",
       "      <th>KM</th>\n",
       "      <th>KM Inicial</th>\n",
       "      <th>KM Final</th>\n",
       "      <th>Biometria</th>\n",
       "      <th>Status</th>\n",
       "      <th>comeco_aula</th>\n",
       "      <th>final_aula</th>\n",
       "      <th>tempo_aula</th>\n",
       "      <th>n_aula</th>\n",
       "      <th>d_begin</th>\n",
       "      <th>d_end</th>\n",
       "      <th>d_end_s2</th>\n",
       "      <th>test</th>\n",
       "      <th>test_2</th>\n",
       "    </tr>\n",
       "  </thead>\n",
       "  <tbody>\n",
       "    <tr>\n",
       "      <th>49</th>\n",
       "      <td>MARILEI TELES DA SILVA</td>\n",
       "      <td>EDER RODRIGUES</td>\n",
       "      <td>A</td>\n",
       "      <td>QIO-1623</td>\n",
       "      <td>1</td>\n",
       "      <td>11756</td>\n",
       "      <td>11757.0</td>\n",
       "      <td>Biometria validada</td>\n",
       "      <td>Crédito da aula aceito pelo Detran</td>\n",
       "      <td>2020-06-03 15:21:00</td>\n",
       "      <td>2020-06-03 17:01:00</td>\n",
       "      <td>01:40:00</td>\n",
       "      <td>2.0</td>\n",
       "      <td>NaN</td>\n",
       "      <td>NaN</td>\n",
       "      <td>NaN</td>\n",
       "      <td>False</td>\n",
       "      <td>False</td>\n",
       "    </tr>\n",
       "    <tr>\n",
       "      <th>50</th>\n",
       "      <td>MARILEI TELES DA SILVA</td>\n",
       "      <td>JUCIMAR BALDESSAR</td>\n",
       "      <td>A</td>\n",
       "      <td>QIO-1663</td>\n",
       "      <td>4</td>\n",
       "      <td>9987</td>\n",
       "      <td>9991.0</td>\n",
       "      <td>Biometria validada</td>\n",
       "      <td>Crédito da aula aceito pelo Detran</td>\n",
       "      <td>2020-06-03 15:24:00</td>\n",
       "      <td>2020-06-03 16:14:00</td>\n",
       "      <td>00:50:00</td>\n",
       "      <td>1.0</td>\n",
       "      <td>3.0</td>\n",
       "      <td>-47.0</td>\n",
       "      <td>NaN</td>\n",
       "      <td>True</td>\n",
       "      <td>False</td>\n",
       "    </tr>\n",
       "    <tr>\n",
       "      <th>52</th>\n",
       "      <td>MARILEI TELES DA SILVA</td>\n",
       "      <td>RODRIGO GAIO</td>\n",
       "      <td>A</td>\n",
       "      <td>QIO-1663</td>\n",
       "      <td>0</td>\n",
       "      <td>9991</td>\n",
       "      <td>9991.0</td>\n",
       "      <td>Biometria validada</td>\n",
       "      <td>Crédito da aula aceito pelo Detran</td>\n",
       "      <td>2020-06-03 16:37:00</td>\n",
       "      <td>2020-06-03 17:27:00</td>\n",
       "      <td>00:50:00</td>\n",
       "      <td>1.0</td>\n",
       "      <td>73.0</td>\n",
       "      <td>73.0</td>\n",
       "      <td>26.0</td>\n",
       "      <td>True</td>\n",
       "      <td>False</td>\n",
       "    </tr>\n",
       "    <tr>\n",
       "      <th>145</th>\n",
       "      <td>MARILEI TELES DA SILVA</td>\n",
       "      <td>JACKSON MAIA DA SILVA</td>\n",
       "      <td>A</td>\n",
       "      <td>QIO-1623</td>\n",
       "      <td>1</td>\n",
       "      <td>11817</td>\n",
       "      <td>11818.0</td>\n",
       "      <td>Biometria validada</td>\n",
       "      <td>Crédito da aula aceito pelo Detran</td>\n",
       "      <td>2020-06-10 08:51:00</td>\n",
       "      <td>2020-06-10 10:31:00</td>\n",
       "      <td>01:40:00</td>\n",
       "      <td>2.0</td>\n",
       "      <td>9614.0</td>\n",
       "      <td>9664.0</td>\n",
       "      <td>9737.0</td>\n",
       "      <td>False</td>\n",
       "      <td>False</td>\n",
       "    </tr>\n",
       "    <tr>\n",
       "      <th>272</th>\n",
       "      <td>MARILEI TELES DA SILVA</td>\n",
       "      <td>CISSA EMMA PIASSESKI</td>\n",
       "      <td>A</td>\n",
       "      <td>QIO-1623</td>\n",
       "      <td>4</td>\n",
       "      <td>11962</td>\n",
       "      <td>11966.0</td>\n",
       "      <td>Biometria validada</td>\n",
       "      <td>Crédito da aula aceito pelo Detran</td>\n",
       "      <td>2020-06-18 14:32:00</td>\n",
       "      <td>2020-06-18 16:12:00</td>\n",
       "      <td>01:40:00</td>\n",
       "      <td>2.0</td>\n",
       "      <td>11861.0</td>\n",
       "      <td>11861.0</td>\n",
       "      <td>21525.0</td>\n",
       "      <td>False</td>\n",
       "      <td>False</td>\n",
       "    </tr>\n",
       "    <tr>\n",
       "      <th>274</th>\n",
       "      <td>MARILEI TELES DA SILVA</td>\n",
       "      <td>ARY JUNIOR RAMILHO GOMES RODRIGUES</td>\n",
       "      <td>A</td>\n",
       "      <td>QIO-1663</td>\n",
       "      <td>7</td>\n",
       "      <td>10179</td>\n",
       "      <td>10186.0</td>\n",
       "      <td>Biometria validada</td>\n",
       "      <td>Crédito da aula aceito pelo Detran</td>\n",
       "      <td>2020-06-18 15:13:00</td>\n",
       "      <td>2020-06-18 16:03:00</td>\n",
       "      <td>00:50:00</td>\n",
       "      <td>1.0</td>\n",
       "      <td>41.0</td>\n",
       "      <td>-9.0</td>\n",
       "      <td>11852.0</td>\n",
       "      <td>True</td>\n",
       "      <td>False</td>\n",
       "    </tr>\n",
       "    <tr>\n",
       "      <th>362</th>\n",
       "      <td>MARILEI TELES DA SILVA</td>\n",
       "      <td>KAMILE SIQUEIRA</td>\n",
       "      <td>A</td>\n",
       "      <td>QIO-1623</td>\n",
       "      <td>2</td>\n",
       "      <td>12025</td>\n",
       "      <td>12027.0</td>\n",
       "      <td>Biometria validada</td>\n",
       "      <td>Crédito da aula aceito pelo Detran</td>\n",
       "      <td>2020-06-24 14:16:00</td>\n",
       "      <td>2020-06-24 15:06:00</td>\n",
       "      <td>00:50:00</td>\n",
       "      <td>1.0</td>\n",
       "      <td>8583.0</td>\n",
       "      <td>8583.0</td>\n",
       "      <td>8574.0</td>\n",
       "      <td>False</td>\n",
       "      <td>False</td>\n",
       "    </tr>\n",
       "    <tr>\n",
       "      <th>367</th>\n",
       "      <td>MARILEI TELES DA SILVA</td>\n",
       "      <td>CISSA EMMA PIASSESKI</td>\n",
       "      <td>A</td>\n",
       "      <td>QIO-1623</td>\n",
       "      <td>4</td>\n",
       "      <td>12027</td>\n",
       "      <td>12031.0</td>\n",
       "      <td>Biometria validada</td>\n",
       "      <td>Crédito da aula aceito pelo Detran</td>\n",
       "      <td>2020-06-24 17:03:00</td>\n",
       "      <td>2020-06-24 17:53:00</td>\n",
       "      <td>00:50:00</td>\n",
       "      <td>1.0</td>\n",
       "      <td>167.0</td>\n",
       "      <td>167.0</td>\n",
       "      <td>8750.0</td>\n",
       "      <td>False</td>\n",
       "      <td>False</td>\n",
       "    </tr>\n",
       "  </tbody>\n",
       "</table>\n",
       "</div>"
      ],
      "text/plain": [
       "                  Instrutor                               Aluno Categoria  \\\n",
       "49   MARILEI TELES DA SILVA                      EDER RODRIGUES         A   \n",
       "50   MARILEI TELES DA SILVA                   JUCIMAR BALDESSAR         A   \n",
       "52   MARILEI TELES DA SILVA                        RODRIGO GAIO         A   \n",
       "145  MARILEI TELES DA SILVA               JACKSON MAIA DA SILVA         A   \n",
       "272  MARILEI TELES DA SILVA                CISSA EMMA PIASSESKI         A   \n",
       "274  MARILEI TELES DA SILVA  ARY JUNIOR RAMILHO GOMES RODRIGUES         A   \n",
       "362  MARILEI TELES DA SILVA                     KAMILE SIQUEIRA         A   \n",
       "367  MARILEI TELES DA SILVA                CISSA EMMA PIASSESKI         A   \n",
       "\n",
       "      Veículo KM  KM Inicial  KM Final           Biometria  \\\n",
       "49   QIO-1623  1       11756   11757.0  Biometria validada   \n",
       "50   QIO-1663  4        9987    9991.0  Biometria validada   \n",
       "52   QIO-1663  0        9991    9991.0  Biometria validada   \n",
       "145  QIO-1623  1       11817   11818.0  Biometria validada   \n",
       "272  QIO-1623  4       11962   11966.0  Biometria validada   \n",
       "274  QIO-1663  7       10179   10186.0  Biometria validada   \n",
       "362  QIO-1623  2       12025   12027.0  Biometria validada   \n",
       "367  QIO-1623  4       12027   12031.0  Biometria validada   \n",
       "\n",
       "                                 Status         comeco_aula  \\\n",
       "49   Crédito da aula aceito pelo Detran 2020-06-03 15:21:00   \n",
       "50   Crédito da aula aceito pelo Detran 2020-06-03 15:24:00   \n",
       "52   Crédito da aula aceito pelo Detran 2020-06-03 16:37:00   \n",
       "145  Crédito da aula aceito pelo Detran 2020-06-10 08:51:00   \n",
       "272  Crédito da aula aceito pelo Detran 2020-06-18 14:32:00   \n",
       "274  Crédito da aula aceito pelo Detran 2020-06-18 15:13:00   \n",
       "362  Crédito da aula aceito pelo Detran 2020-06-24 14:16:00   \n",
       "367  Crédito da aula aceito pelo Detran 2020-06-24 17:03:00   \n",
       "\n",
       "             final_aula tempo_aula  n_aula  d_begin    d_end  d_end_s2   test  \\\n",
       "49  2020-06-03 17:01:00   01:40:00     2.0      NaN      NaN       NaN  False   \n",
       "50  2020-06-03 16:14:00   00:50:00     1.0      3.0    -47.0       NaN   True   \n",
       "52  2020-06-03 17:27:00   00:50:00     1.0     73.0     73.0      26.0   True   \n",
       "145 2020-06-10 10:31:00   01:40:00     2.0   9614.0   9664.0    9737.0  False   \n",
       "272 2020-06-18 16:12:00   01:40:00     2.0  11861.0  11861.0   21525.0  False   \n",
       "274 2020-06-18 16:03:00   00:50:00     1.0     41.0     -9.0   11852.0   True   \n",
       "362 2020-06-24 15:06:00   00:50:00     1.0   8583.0   8583.0    8574.0  False   \n",
       "367 2020-06-24 17:53:00   00:50:00     1.0    167.0    167.0    8750.0  False   \n",
       "\n",
       "     test_2  \n",
       "49    False  \n",
       "50    False  \n",
       "52    False  \n",
       "145   False  \n",
       "272   False  \n",
       "274   False  \n",
       "362   False  \n",
       "367   False  "
      ]
     },
     "execution_count": 36,
     "metadata": {},
     "output_type": "execute_result"
    }
   ],
   "source": [
    "cat"
   ]
  },
  {
   "cell_type": "code",
   "execution_count": 37,
   "metadata": {},
   "outputs": [
    {
     "data": {
      "text/plain": [
       "5.0"
      ]
     },
     "execution_count": 37,
     "metadata": {},
     "output_type": "execute_result"
    }
   ],
   "source": [
    "aulas_s = cat['n_aula'].sum() - 2*(cat['n_aula'] * (cat['test'] | cat['test_2'])).sum()\n",
    "aulas_s"
   ]
  },
  {
   "cell_type": "code",
   "execution_count": 38,
   "metadata": {},
   "outputs": [
    {
     "name": "stdout",
     "output_type": "stream",
     "text": [
      "5.0\n",
      "3.0\n"
     ]
    }
   ],
   "source": [
    "aulas_s = 0\n",
    "aulas_d = 0\n",
    "for i in range(len(cat['n_aula'])):\n",
    "    if (cat['test'].iloc[i] | cat['test_2'].iloc[i]) == False:\n",
    "        aulas_s += cat['n_aula'].iloc[i]\n",
    "    else:\n",
    "        aulas_s -= cat['n_aula'].iloc[i]\n",
    "        \n",
    "    if cat['test'].iloc[i] == True:\n",
    "        aulas_d += cat['n_aula'].iloc[i]\n",
    "    \n",
    "    if cat['test_2'].iloc[i] == True:\n",
    "        aulas_d += cat['n_aula'].iloc[i] * 0.5\n",
    "    \n",
    "    \n",
    "print(aulas_s)\n",
    "print(aulas_d)"
   ]
  },
  {
   "cell_type": "code",
   "execution_count": null,
   "metadata": {},
   "outputs": [],
   "source": []
  },
  {
   "cell_type": "code",
   "execution_count": null,
   "metadata": {},
   "outputs": [],
   "source": []
  }
 ],
 "metadata": {
  "kernelspec": {
   "display_name": "Python 3",
   "language": "python",
   "name": "python3"
  },
  "language_info": {
   "codemirror_mode": {
    "name": "ipython",
    "version": 3
   },
   "file_extension": ".py",
   "mimetype": "text/x-python",
   "name": "python",
   "nbconvert_exporter": "python",
   "pygments_lexer": "ipython3",
   "version": "3.8.3"
  }
 },
 "nbformat": 4,
 "nbformat_minor": 4
}
