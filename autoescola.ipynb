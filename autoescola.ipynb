{
 "cells": [
  {
   "cell_type": "code",
   "execution_count": 58,
   "metadata": {},
   "outputs": [],
   "source": [
    "import pandas as pd\n",
    "import numpy as np"
   ]
  },
  {
   "cell_type": "code",
   "execution_count": 59,
   "metadata": {},
   "outputs": [],
   "source": [
    "pd.set_option('display.max_columns', None)  # or 1000\n",
    "pd.set_option('display.max_rows', None)  # or 1000"
   ]
  },
  {
   "cell_type": "code",
   "execution_count": 60,
   "metadata": {},
   "outputs": [],
   "source": [
    "df = pd.read_csv('Relatórios de Aulas.csv')"
   ]
  },
  {
   "cell_type": "code",
   "execution_count": 61,
   "metadata": {},
   "outputs": [
    {
     "data": {
      "text/plain": [
       "Data                 object\n",
       "CFC                  object\n",
       "Horário              object\n",
       "CPF do instrutor     object\n",
       "Instrutor            object\n",
       "CPF do aluno         object\n",
       "Aluno                object\n",
       "Categoria            object\n",
       "Veículo              object\n",
       "KM                   object\n",
       "KM Inicial            int64\n",
       "KM Final            float64\n",
       "Biometria            object\n",
       "Status               object\n",
       "Periodo              object\n",
       "dtype: object"
      ]
     },
     "execution_count": 61,
     "metadata": {},
     "output_type": "execute_result"
    }
   ],
   "source": [
    "df.dtypes"
   ]
  },
  {
   "cell_type": "code",
   "execution_count": 62,
   "metadata": {},
   "outputs": [
    {
     "data": {
      "text/plain": [
       "(446, 15)"
      ]
     },
     "execution_count": 62,
     "metadata": {},
     "output_type": "execute_result"
    }
   ],
   "source": [
    "df.shape"
   ]
  },
  {
   "cell_type": "code",
   "execution_count": 63,
   "metadata": {},
   "outputs": [
    {
     "data": {
      "text/plain": [
       "Data                 24\n",
       "CFC                   1\n",
       "Horário             299\n",
       "CPF do instrutor      5\n",
       "Instrutor             5\n",
       "CPF do aluno         42\n",
       "Aluno                42\n",
       "Categoria             2\n",
       "Veículo               6\n",
       "KM                   39\n",
       "KM Inicial          434\n",
       "KM Final            432\n",
       "Biometria             3\n",
       "Status                4\n",
       "Periodo               2\n",
       "dtype: int64"
      ]
     },
     "execution_count": 63,
     "metadata": {},
     "output_type": "execute_result"
    }
   ],
   "source": [
    "df.nunique()"
   ]
  },
  {
   "cell_type": "code",
   "execution_count": 64,
   "metadata": {},
   "outputs": [
    {
     "data": {
      "text/html": [
       "<div>\n",
       "<style scoped>\n",
       "    .dataframe tbody tr th:only-of-type {\n",
       "        vertical-align: middle;\n",
       "    }\n",
       "\n",
       "    .dataframe tbody tr th {\n",
       "        vertical-align: top;\n",
       "    }\n",
       "\n",
       "    .dataframe thead th {\n",
       "        text-align: right;\n",
       "    }\n",
       "</style>\n",
       "<table border=\"1\" class=\"dataframe\">\n",
       "  <thead>\n",
       "    <tr style=\"text-align: right;\">\n",
       "      <th></th>\n",
       "      <th>Data</th>\n",
       "      <th>CFC</th>\n",
       "      <th>Horário</th>\n",
       "      <th>CPF do instrutor</th>\n",
       "      <th>Instrutor</th>\n",
       "      <th>CPF do aluno</th>\n",
       "      <th>Aluno</th>\n",
       "      <th>Categoria</th>\n",
       "      <th>Veículo</th>\n",
       "      <th>KM</th>\n",
       "      <th>KM Inicial</th>\n",
       "      <th>KM Final</th>\n",
       "      <th>Biometria</th>\n",
       "      <th>Status</th>\n",
       "      <th>Periodo</th>\n",
       "    </tr>\n",
       "  </thead>\n",
       "  <tbody>\n",
       "    <tr>\n",
       "      <th>0</th>\n",
       "      <td>01/06/2020</td>\n",
       "      <td>CFC TONELLO</td>\n",
       "      <td>08:06 - 09:46</td>\n",
       "      <td>023.052.389-75</td>\n",
       "      <td>LUCIMAR TONELLO</td>\n",
       "      <td>099.038.689-95</td>\n",
       "      <td>ISMAEL LUCAS GABARDO</td>\n",
       "      <td>A</td>\n",
       "      <td>QIO-1623</td>\n",
       "      <td>7</td>\n",
       "      <td>11703</td>\n",
       "      <td>11710.0</td>\n",
       "      <td>Biometria validada</td>\n",
       "      <td>Crédito da aula aceito pelo Detran</td>\n",
       "      <td>SEM TURNO</td>\n",
       "    </tr>\n",
       "  </tbody>\n",
       "</table>\n",
       "</div>"
      ],
      "text/plain": [
       "         Data          CFC        Horário CPF do instrutor        Instrutor  \\\n",
       "0  01/06/2020  CFC TONELLO  08:06 - 09:46   023.052.389-75  LUCIMAR TONELLO   \n",
       "\n",
       "     CPF do aluno                 Aluno Categoria   Veículo KM  KM Inicial  \\\n",
       "0  099.038.689-95  ISMAEL LUCAS GABARDO         A  QIO-1623  7       11703   \n",
       "\n",
       "   KM Final           Biometria                              Status    Periodo  \n",
       "0   11710.0  Biometria validada  Crédito da aula aceito pelo Detran  SEM TURNO  "
      ]
     },
     "execution_count": 64,
     "metadata": {},
     "output_type": "execute_result"
    }
   ],
   "source": [
    "df.head(1)"
   ]
  },
  {
   "cell_type": "code",
   "execution_count": 65,
   "metadata": {},
   "outputs": [],
   "source": [
    "df['comeco_aula'] = df['Horário'].astype(str).str.slice(0,5)\n",
    "df['final_aula'] = df['Horário'].astype(str).str.slice(-5)"
   ]
  },
  {
   "cell_type": "code",
   "execution_count": 66,
   "metadata": {},
   "outputs": [],
   "source": [
    "df['comeco_aula'] = pd.to_datetime(df[['Data', 'comeco_aula']].agg(' '.join, axis=1), format='%d/%m/%Y %H:%M')\n",
    "df['final_aula'] = pd.to_datetime(df[['Data', 'final_aula']].agg(' '.join, axis=1), format='%d/%m/%Y %H:%M')"
   ]
  },
  {
   "cell_type": "code",
   "execution_count": 67,
   "metadata": {
    "scrolled": true
   },
   "outputs": [
    {
     "data": {
      "text/html": [
       "<div>\n",
       "<style scoped>\n",
       "    .dataframe tbody tr th:only-of-type {\n",
       "        vertical-align: middle;\n",
       "    }\n",
       "\n",
       "    .dataframe tbody tr th {\n",
       "        vertical-align: top;\n",
       "    }\n",
       "\n",
       "    .dataframe thead th {\n",
       "        text-align: right;\n",
       "    }\n",
       "</style>\n",
       "<table border=\"1\" class=\"dataframe\">\n",
       "  <thead>\n",
       "    <tr style=\"text-align: right;\">\n",
       "      <th></th>\n",
       "      <th>Data</th>\n",
       "      <th>CFC</th>\n",
       "      <th>Horário</th>\n",
       "      <th>CPF do instrutor</th>\n",
       "      <th>Instrutor</th>\n",
       "      <th>CPF do aluno</th>\n",
       "      <th>Aluno</th>\n",
       "      <th>Categoria</th>\n",
       "      <th>Veículo</th>\n",
       "      <th>KM</th>\n",
       "      <th>KM Inicial</th>\n",
       "      <th>KM Final</th>\n",
       "      <th>Biometria</th>\n",
       "      <th>Status</th>\n",
       "      <th>Periodo</th>\n",
       "      <th>comeco_aula</th>\n",
       "      <th>final_aula</th>\n",
       "      <th>tempo_aula</th>\n",
       "      <th>n_aula</th>\n",
       "    </tr>\n",
       "  </thead>\n",
       "  <tbody>\n",
       "    <tr>\n",
       "      <th>0</th>\n",
       "      <td>01/06/2020</td>\n",
       "      <td>CFC TONELLO</td>\n",
       "      <td>08:06 - 09:46</td>\n",
       "      <td>023.052.389-75</td>\n",
       "      <td>LUCIMAR TONELLO</td>\n",
       "      <td>099.038.689-95</td>\n",
       "      <td>ISMAEL LUCAS GABARDO</td>\n",
       "      <td>A</td>\n",
       "      <td>QIO-1623</td>\n",
       "      <td>7</td>\n",
       "      <td>11703</td>\n",
       "      <td>11710.0</td>\n",
       "      <td>Biometria validada</td>\n",
       "      <td>Crédito da aula aceito pelo Detran</td>\n",
       "      <td>SEM TURNO</td>\n",
       "      <td>2020-06-01 08:06:00</td>\n",
       "      <td>2020-06-01 09:46:00</td>\n",
       "      <td>01:40:00</td>\n",
       "      <td>2.0</td>\n",
       "    </tr>\n",
       "    <tr>\n",
       "      <th>1</th>\n",
       "      <td>01/06/2020</td>\n",
       "      <td>CFC TONELLO</td>\n",
       "      <td>10:54 - 11:44</td>\n",
       "      <td>942.197.459-04</td>\n",
       "      <td>LEONIR TONELLO</td>\n",
       "      <td>099.038.689-95</td>\n",
       "      <td>ISMAEL LUCAS GABARDO</td>\n",
       "      <td>B</td>\n",
       "      <td>QIO-1683</td>\n",
       "      <td>11</td>\n",
       "      <td>75929</td>\n",
       "      <td>75940.0</td>\n",
       "      <td>Backoffice aprovado</td>\n",
       "      <td>Crédito da aula aceito pelo Detran</td>\n",
       "      <td>SEM TURNO</td>\n",
       "      <td>2020-06-01 10:54:00</td>\n",
       "      <td>2020-06-01 11:44:00</td>\n",
       "      <td>00:50:00</td>\n",
       "      <td>1.0</td>\n",
       "    </tr>\n",
       "  </tbody>\n",
       "</table>\n",
       "</div>"
      ],
      "text/plain": [
       "         Data          CFC        Horário CPF do instrutor        Instrutor  \\\n",
       "0  01/06/2020  CFC TONELLO  08:06 - 09:46   023.052.389-75  LUCIMAR TONELLO   \n",
       "1  01/06/2020  CFC TONELLO  10:54 - 11:44   942.197.459-04   LEONIR TONELLO   \n",
       "\n",
       "     CPF do aluno                 Aluno Categoria   Veículo  KM  KM Inicial  \\\n",
       "0  099.038.689-95  ISMAEL LUCAS GABARDO         A  QIO-1623   7       11703   \n",
       "1  099.038.689-95  ISMAEL LUCAS GABARDO         B  QIO-1683  11       75929   \n",
       "\n",
       "   KM Final            Biometria                              Status  \\\n",
       "0   11710.0   Biometria validada  Crédito da aula aceito pelo Detran   \n",
       "1   75940.0  Backoffice aprovado  Crédito da aula aceito pelo Detran   \n",
       "\n",
       "     Periodo         comeco_aula          final_aula tempo_aula  n_aula  \n",
       "0  SEM TURNO 2020-06-01 08:06:00 2020-06-01 09:46:00   01:40:00     2.0  \n",
       "1  SEM TURNO 2020-06-01 10:54:00 2020-06-01 11:44:00   00:50:00     1.0  "
      ]
     },
     "execution_count": 67,
     "metadata": {},
     "output_type": "execute_result"
    }
   ],
   "source": [
    "df['tempo_aula'] = (df['final_aula'] - df['comeco_aula'])\n",
    "df['n_aula'] = df['tempo_aula'].astype('timedelta64[m]')/50\n",
    "df.head(2)"
   ]
  },
  {
   "cell_type": "code",
   "execution_count": 68,
   "metadata": {},
   "outputs": [],
   "source": [
    "df = df.drop(['CFC','CPF do instrutor', 'CPF do aluno', 'Periodo'], axis=1)\n",
    "df = df.drop(['Data','Horário'], axis=1)"
   ]
  },
  {
   "cell_type": "code",
   "execution_count": 69,
   "metadata": {},
   "outputs": [
    {
     "data": {
      "text/plain": [
       "['Instrutor',\n",
       " 'Aluno',\n",
       " 'Categoria',\n",
       " 'Veículo',\n",
       " 'KM',\n",
       " 'KM Inicial',\n",
       " 'KM Final',\n",
       " 'Biometria',\n",
       " 'Status',\n",
       " 'comeco_aula',\n",
       " 'final_aula',\n",
       " 'tempo_aula',\n",
       " 'n_aula']"
      ]
     },
     "execution_count": 69,
     "metadata": {},
     "output_type": "execute_result"
    }
   ],
   "source": [
    "list(df.columns)"
   ]
  },
  {
   "cell_type": "code",
   "execution_count": 70,
   "metadata": {},
   "outputs": [
    {
     "data": {
      "text/plain": [
       "['LUCIMAR TONELLO',\n",
       " 'LEONIR TONELLO',\n",
       " 'JEFERSON CLAUDIO DE ALMEIDA',\n",
       " 'MOISES DIONATAS VANCINI',\n",
       " 'MARILEI TELES DA SILVA']"
      ]
     },
     "execution_count": 70,
     "metadata": {},
     "output_type": "execute_result"
    }
   ],
   "source": [
    "list(df['Instrutor'].unique())"
   ]
  },
  {
   "cell_type": "code",
   "execution_count": 71,
   "metadata": {
    "scrolled": true
   },
   "outputs": [
    {
     "data": {
      "text/plain": [
       "(78, 13)"
      ]
     },
     "execution_count": 71,
     "metadata": {},
     "output_type": "execute_result"
    }
   ],
   "source": [
    "intrutor = df['Instrutor'] == 'MOISES DIONATAS VANCINI'\n",
    "categoria = df['Categoria'] == 'B'\n",
    "\n",
    "cat = df[intrutor & categoria].copy()\n",
    "cat.shape"
   ]
  },
  {
   "cell_type": "code",
   "execution_count": 72,
   "metadata": {},
   "outputs": [
    {
     "data": {
      "text/plain": [
       "['Biometria validada', 'Backoffice aprovado', nan]"
      ]
     },
     "execution_count": 72,
     "metadata": {},
     "output_type": "execute_result"
    }
   ],
   "source": [
    "list(cat['Biometria'].unique())"
   ]
  },
  {
   "cell_type": "code",
   "execution_count": 56,
   "metadata": {},
   "outputs": [
    {
     "data": {
      "text/plain": [
       "77"
      ]
     },
     "execution_count": 56,
     "metadata": {},
     "output_type": "execute_result"
    }
   ],
   "source": [
    "cat[cat['Status'].str.find('Cancelada') == -1].shape[0]"
   ]
  },
  {
   "cell_type": "code",
   "execution_count": null,
   "metadata": {},
   "outputs": [],
   "source": []
  }
 ],
 "metadata": {
  "kernelspec": {
   "display_name": "Python 3",
   "language": "python",
   "name": "python3"
  },
  "language_info": {
   "codemirror_mode": {
    "name": "ipython",
    "version": 3
   },
   "file_extension": ".py",
   "mimetype": "text/x-python",
   "name": "python",
   "nbconvert_exporter": "python",
   "pygments_lexer": "ipython3",
   "version": "3.8.3"
  }
 },
 "nbformat": 4,
 "nbformat_minor": 4
}
